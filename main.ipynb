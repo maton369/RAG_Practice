{
 "cells": [
  {
   "cell_type": "code",
   "execution_count": 2,
   "id": "c8d412c4",
   "metadata": {},
   "outputs": [
    {
     "name": "stdout",
     "output_type": "stream",
     "text": [
      "こんにちは！お元気ですか？何かお手伝いできることがありますか？\n"
     ]
    }
   ],
   "source": [
    "import os\n",
    "from openai import OpenAI\n",
    "from dotenv import load_dotenv\n",
    "\n",
    "# .envファイルからAPIキーを読み込み\n",
    "load_dotenv()\n",
    "api_key = os.getenv(\"OPENAI_API_KEY\")\n",
    "\n",
    "# クライアント初期化\n",
    "client = OpenAI(api_key=api_key)\n",
    "\n",
    "# GPT-3.5 Turbo Instructは非推奨。代わりにGPT-3.5 Turbo（chatモデル）を使う\n",
    "response = client.chat.completions.create(\n",
    "    model=\"gpt-3.5-turbo\",\n",
    "    messages=[{\"role\": \"user\", \"content\": \"こんにちは\"}],\n",
    "    max_tokens=200,\n",
    "    temperature=0.0,\n",
    ")\n",
    "\n",
    "# 応答の表示\n",
    "print(response.choices[0].message.content)"
   ]
  },
  {
   "cell_type": "code",
   "execution_count": 3,
   "id": "857b0b71",
   "metadata": {},
   "outputs": [],
   "source": [
    "import numpy as np\n",
    "from sklearn.metrics.pairwise import cosine_similarity\n",
    "\n",
    "# 質問\n",
    "query = \"今年の夏はどこに行く予定ですか？\"\n",
    "\n",
    "# 回答の元とする情報\n",
    "info = [\n",
    "    \"昨年の夏に北海道旅行を計画していた。レンタカーで観光地を回る予定だった。\",\n",
    "    \"今年の春には海外旅行を計画中で、ヨーロッパが候補に挙がっている。ヨーロッパは２回目。\",\n",
    "    \"今年の夏は軽井沢に行く予定である。キャンプをする。キャンプは初めて。\",\n",
    "]"
   ]
  },
  {
   "cell_type": "code",
   "execution_count": 4,
   "id": "28edc4de",
   "metadata": {},
   "outputs": [],
   "source": [
    "# 質問をベクトルに変換\n",
    "query_response = client.embeddings.create(\n",
    "    input=query,\n",
    "    model=\"text-embedding-3-small\"\n",
    ")\n",
    "query_vector = query_response.data[0].embedding\n",
    "\n",
    "# 情報をベクトルに変換\n",
    "text_vectors = []\n",
    "for text in info:\n",
    "    response = client.embeddings.create(\n",
    "        input=text,\n",
    "        model=\"text-embedding-3-small\"\n",
    "    )\n",
    "    text_vectors.append(response.data[0].embedding)\n"
   ]
  },
  {
   "cell_type": "code",
   "execution_count": null,
   "id": "311a2843",
   "metadata": {},
   "outputs": [],
   "source": []
  }
 ],
 "metadata": {
  "kernelspec": {
   "display_name": "3.10.13",
   "language": "python",
   "name": "python3"
  },
  "language_info": {
   "codemirror_mode": {
    "name": "ipython",
    "version": 3
   },
   "file_extension": ".py",
   "mimetype": "text/x-python",
   "name": "python",
   "nbconvert_exporter": "python",
   "pygments_lexer": "ipython3",
   "version": "3.10.13"
  }
 },
 "nbformat": 4,
 "nbformat_minor": 5
}
