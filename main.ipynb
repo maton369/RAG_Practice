{
 "cells": [
  {
   "cell_type": "code",
   "execution_count": 2,
   "id": "c8d412c4",
   "metadata": {},
   "outputs": [
    {
     "name": "stdout",
     "output_type": "stream",
     "text": [
      "こんにちは！お元気ですか？何かお手伝いできることがありますか？\n"
     ]
    }
   ],
   "source": [
    "import os\n",
    "from openai import OpenAI\n",
    "from dotenv import load_dotenv\n",
    "\n",
    "# .envファイルからAPIキーを読み込み\n",
    "load_dotenv()\n",
    "api_key = os.getenv(\"OPENAI_API_KEY\")\n",
    "\n",
    "# クライアント初期化\n",
    "client = OpenAI(api_key=api_key)\n",
    "\n",
    "# GPT-3.5 Turbo Instructは非推奨。代わりにGPT-3.5 Turbo（chatモデル）を使う\n",
    "response = client.chat.completions.create(\n",
    "    model=\"gpt-3.5-turbo\",\n",
    "    messages=[{\"role\": \"user\", \"content\": \"こんにちは\"}],\n",
    "    max_tokens=200,\n",
    "    temperature=0.0,\n",
    ")\n",
    "\n",
    "# 応答の表示\n",
    "print(response.choices[0].message.content)"
   ]
  },
  {
   "cell_type": "code",
   "execution_count": null,
   "id": "857b0b71",
   "metadata": {},
   "outputs": [],
   "source": []
  }
 ],
 "metadata": {
  "kernelspec": {
   "display_name": "3.10.13",
   "language": "python",
   "name": "python3"
  },
  "language_info": {
   "codemirror_mode": {
    "name": "ipython",
    "version": 3
   },
   "file_extension": ".py",
   "mimetype": "text/x-python",
   "name": "python",
   "nbconvert_exporter": "python",
   "pygments_lexer": "ipython3",
   "version": "3.10.13"
  }
 },
 "nbformat": 4,
 "nbformat_minor": 5
}
